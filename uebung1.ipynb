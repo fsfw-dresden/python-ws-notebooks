{
 "cells": [
  {
   "cell_type": "code",
   "execution_count": null,
   "metadata": {},
   "outputs": [],
   "source": [
    "import numpy as np\n",
    "import sympy as sp\n",
    "from sympy.interactive import printing\n",
    "printing.init_printing()\n",
    "import matplotlib.pyplot as plt\n",
    "\n",
    "%load_ext ipydex.displaytools"
   ]
  },
  {
   "cell_type": "markdown",
   "metadata": {},
   "source": [
    "Dieses Notebook enthält Anregungen für Übungsaufgaben, die in Anlehnung an das Notebook [demo1](demo1.ipynb) gelöst werden können."
   ]
  },
  {
   "cell_type": "markdown",
   "metadata": {},
   "source": [
    "### Aufgabe 1\n",
    "\n",
    "Stellen Sie die Funktionen $y_1=\\sin(2\\pi x)$,  $y_2=\\sin(2\\pi x^2)$ im Intervall $x \\in [-1, 2]$ grafisch dar.\n",
    "\n",
    "Hinweise: `np.pi`, `np.sin`"
   ]
  },
  {
   "cell_type": "code",
   "execution_count": null,
   "metadata": {},
   "outputs": [],
   "source": []
  },
  {
   "cell_type": "markdown",
   "metadata": {},
   "source": [
    "### Aufgabe 2\n",
    "\n",
    "Reproduzieren Sie folgendens Bild\n",
    "\n",
    "![parametrische Kurve](img/parametric_curve.png \"parametrische Kurve\")\n",
    "\n",
    "Hinweis: Suchen Sie unter https://matplotlib.org/gallery/index.html nach einem passenden Beispiel (relativ weit unten)"
   ]
  },
  {
   "cell_type": "code",
   "execution_count": null,
   "metadata": {},
   "outputs": [],
   "source": []
  },
  {
   "cell_type": "markdown",
   "metadata": {},
   "source": [
    "### Aufgabe 3\n",
    "\n",
    "Lösen Sie das das folgende Gleichungssystem\n",
    "\n",
    "\n",
    "$$\n",
    "\\underbrace{\n",
    "\\left(\\begin{matrix}\n",
    "-1 &  -1 & -1 \\\\\n",
    "-1  & 5  & 2\\\\\n",
    " 3 & -4  & 2 \\\\\n",
    "\\end{matrix} \\right)}_{\\mathbf{A}}\n",
    "\\cdot\n",
    "\\mathbf{x}\n",
    "=\n",
    "\\underbrace{\n",
    "\\left(\\begin{matrix}\n",
    " -16\\\\\n",
    " 50 \\\\\n",
    " -14\n",
    "\\end{matrix} \\right)}_{\\mathbf{y}}\n",
    "$$\n",
    "\n",
    "\n",
    "und führen Sie anschließend die Probe durch:\n",
    "\n",
    "$$\n",
    "\\mathbf{A}\\cdot \\mathbf{x}- \\mathbf{y} \\stackrel{!}{=} \\mathbf{0}.\n",
    "$$"
   ]
  },
  {
   "cell_type": "code",
   "execution_count": null,
   "metadata": {},
   "outputs": [],
   "source": []
  },
  {
   "cell_type": "markdown",
   "metadata": {},
   "source": [
    "### Aufgabe 4\n",
    "\n",
    "* Berechnen Sie die 1. und 2. Ableitung der Funktion $f(x) = \\dfrac{\\sin(x)}{x^2 + 1}$,\n",
    "* bringen sie alle Ausdrücke jeweils auf einen Nenner und\n",
    "* stellen Sie $f, f'$ und $f'' $ Ergebnis im Intervall $x\\in [-3, 3]$ grafisch dar.\n",
    "\n",
    "\n",
    "Hinweise: `sp.plot?` und  `f1.simplify()`\n"
   ]
  },
  {
   "cell_type": "code",
   "execution_count": null,
   "metadata": {},
   "outputs": [],
   "source": []
  },
  {
   "cell_type": "markdown",
   "metadata": {},
   "source": [
    "### Aufgabe 5\n",
    "\n",
    "Gegeben ist die komplexwertige Funktion $G(j\\omega) = \\dfrac{1}{1 + j\\omega} e^{-j\\omega}$. Stellen Sie den Frequenzgang für $\\omega\\in (0, \\inf) $ in der komplexen Ebene dar.\n",
    "\n",
    "Hinweise: `np.logspace?` für logarithmisch skalierte Frequenz-Werte; `np.exp(...)` für Exponentialfunktion"
   ]
  },
  {
   "cell_type": "code",
   "execution_count": null,
   "metadata": {},
   "outputs": [],
   "source": []
  }
 ],
 "metadata": {
  "kernelspec": {
   "display_name": "Python 3",
   "language": "python",
   "name": "python3"
  },
  "language_info": {
   "codemirror_mode": {
    "name": "ipython",
    "version": 3
   },
   "file_extension": ".py",
   "mimetype": "text/x-python",
   "name": "python",
   "nbconvert_exporter": "python",
   "pygments_lexer": "ipython3",
   "version": "3.5.3"
  }
 },
 "nbformat": 4,
 "nbformat_minor": 2
}
